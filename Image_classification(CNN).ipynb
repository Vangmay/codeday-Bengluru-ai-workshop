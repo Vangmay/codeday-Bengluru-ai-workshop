{
  "cells": [
    {
      "cell_type": "markdown",
      "metadata": {
        "id": "view-in-github",
        "colab_type": "text"
      },
      "source": [
        "<a href=\"https://colab.research.google.com/github/daspartho/codeday-lucknow-ai-workshop/blob/main/Image_classification(CNN).ipynb\" target=\"_parent\"><img src=\"https://colab.research.google.com/assets/colab-badge.svg\" alt=\"Open In Colab\"/></a>"
      ]
    },
    {
      "cell_type": "markdown",
      "source": [
        "# Importing and installing Libraries"
      ],
      "metadata": {
        "id": "yBiYUpRCqFdx"
      },
      "id": "yBiYUpRCqFdx"
    },
    {
      "cell_type": "code",
      "execution_count": null,
      "id": "70a223d6",
      "metadata": {
        "id": "70a223d6"
      },
      "outputs": [],
      "source": [
        "!pip install tensorflow\n",
        "!pip install matplotlib\n",
        "!pip install numpy\n",
        "import tensorflow as tf\n",
        "from tensorflow.keras import datasets,layers,models\n",
        "import matplotlib.pyplot as plt\n",
        "import numpy as np"
      ]
    },
    {
      "cell_type": "markdown",
      "id": "16129f2d",
      "metadata": {
        "id": "16129f2d"
      },
      "source": [
        "# Getting the data from the library"
      ]
    },
    {
      "cell_type": "code",
      "execution_count": null,
      "id": "f8ec3d9e",
      "metadata": {
        "id": "f8ec3d9e",
        "outputId": "4293598a-eaab-4c45-a8a4-59bf5a0bb5e9"
      },
      "outputs": [
        {
          "data": {
            "text/plain": [
              "(50000, 32, 32, 3)"
            ]
          },
          "execution_count": 2,
          "metadata": {},
          "output_type": "execute_result"
        }
      ],
      "source": [
        "(X_train,y_train),(X_test,y_test) = datasets.cifar10.load_data()\n",
        "X_train.shape"
      ]
    },
    {
      "cell_type": "code",
      "execution_count": null,
      "id": "fc04d3e5",
      "metadata": {
        "id": "fc04d3e5",
        "outputId": "5b5a622f-142e-4c9e-ed0c-5a5d88b61b03"
      },
      "outputs": [
        {
          "data": {
            "text/plain": [
              "array([6, 9, 9, 4, 1], dtype=uint8)"
            ]
          },
          "execution_count": 3,
          "metadata": {},
          "output_type": "execute_result"
        }
      ],
      "source": [
        "y_train = y_train.reshape(-1,)\n",
        "y_train[:5]"
      ]
    },
    {
      "cell_type": "code",
      "execution_count": null,
      "id": "fdff999c",
      "metadata": {
        "id": "fdff999c"
      },
      "outputs": [],
      "source": [
        "classes = [\"airplane\",\"automobile\",\"bird\",\"cat\",\"deer\",\"dog\",\"frog\",\"horse\",\"ship\",\"truck\"]\n",
        "#These are the different classes that our neural network will predict."
      ]
    },
    {
      "cell_type": "code",
      "execution_count": null,
      "id": "c51bcb78",
      "metadata": {
        "id": "c51bcb78"
      },
      "outputs": [],
      "source": [
        "def plot_sample(X,y,index):\n",
        "    plt.figure(figsize = (15,2))\n",
        "    plt.imshow(X[index])\n",
        "    plt.xlabel(classes[y[index]])\n",
        "\n",
        "\n",
        ""
      ]
    },
    {
      "cell_type": "code",
      "execution_count": null,
      "id": "db575919",
      "metadata": {
        "id": "db575919",
        "outputId": "d7c4e179-b28b-4e43-cf39-a5b1e2416376"
      },
      "outputs": [
        {
          "data": {
            "image/png": "[encoded data removed]",
            "text/plain": [
              "<Figure size 1080x144 with 1 Axes>"
            ]
          },
          "metadata": {
            "needs_background": "light"
          },
          "output_type": "display_data"
        }
      ],
      "source": [
        "plot_sample(X_train,y_train,11)"
      ]
    },
    {
      "cell_type": "markdown",
      "id": "9b8702b5",
      "metadata": {
        "id": "9b8702b5"
      },
      "source": [
        "## Image representation\n",
        " Each image is represented as as 32 x 32 array where each element is ALSO AN ARRAY that contains 3 numbers within the range 0 - 255 to signify the respective RGB values for that pixel."
      ]
    },
    {
      "cell_type": "code",
      "execution_count": null,
      "id": "59250a8d",
      "metadata": {
        "id": "59250a8d",
        "outputId": "87786bb6-fbdc-494a-803e-f4df4d34e4db"
      },
      "outputs": [
        {
          "name": "stdout",
          "output_type": "stream",
          "text": [
            "[[[142 149 152]\n",
            "  [172 172 167]\n",
            "  [176 168 154]\n",
            "  ...\n",
            "  [216 212 211]\n",
            "  [198 194 193]\n",
            "  [205 202 200]]\n",
            "\n",
            " [[191 190 192]\n",
            "  [196 192 190]\n",
            "  [174 166 159]\n",
            "  ...\n",
            "  [229 222 220]\n",
            "  [222 215 213]\n",
            "  [217 210 207]]\n",
            "\n",
            " [[220 212 212]\n",
            "  [217 209 208]\n",
            "  [192 183 182]\n",
            "  ...\n",
            "  [224 214 209]\n",
            "  [225 214 210]\n",
            "  [218 208 203]]\n",
            "\n",
            " ...\n",
            "\n",
            " [[197 152 136]\n",
            "  [196 152 135]\n",
            "  [201 156 140]\n",
            "  ...\n",
            "  [200 165 146]\n",
            "  [199 165 146]\n",
            "  [205 164 150]]\n",
            "\n",
            " [[196 157 139]\n",
            "  [191 152 135]\n",
            "  [193 154 136]\n",
            "  ...\n",
            "  [198 164 144]\n",
            "  [199 165 145]\n",
            "  [201 161 146]]\n",
            "\n",
            " [[186 150 133]\n",
            "  [182 147 130]\n",
            "  [174 139 121]\n",
            "  ...\n",
            "  [158 124 105]\n",
            "  [158 125 106]\n",
            "  [163 125 111]]]\n"
          ]
        }
      ],
      "source": [
        "#Sample representation of an Image\n",
        "print(X_train[11])\n",
        "# All the values are between 0 - 255 as they all of them represent a pixel in RGB from. \\\n",
        "# Each array has 32 rows and columns, where each pixel is an array."
      ]
    },
    {
      "cell_type": "markdown",
      "id": "2010a1c6",
      "metadata": {
        "id": "2010a1c6"
      },
      "source": [
        "### Downscaling the image values\n",
        "for easy processing"
      ]
    },
    {
      "cell_type": "code",
      "execution_count": null,
      "id": "3b731865",
      "metadata": {
        "id": "3b731865"
      },
      "outputs": [],
      "source": [
        "X_train = X_train / 255\n",
        "X_test = X_test / 255"
      ]
    },
    {
      "cell_type": "code",
      "execution_count": null,
      "id": "4db87588",
      "metadata": {
        "id": "4db87588",
        "outputId": "3e84592e-3d94-4d09-d858-83d85db88c18"
      },
      "outputs": [
        {
          "name": "stdout",
          "output_type": "stream",
          "text": [
            "[[[0.55686275 0.58431373 0.59607843]\n",
            "  [0.6745098  0.6745098  0.65490196]\n",
            "  [0.69019608 0.65882353 0.60392157]\n",
            "  ...\n",
            "  [0.84705882 0.83137255 0.82745098]\n",
            "  [0.77647059 0.76078431 0.75686275]\n",
            "  [0.80392157 0.79215686 0.78431373]]\n",
            "\n",
            " [[0.74901961 0.74509804 0.75294118]\n",
            "  [0.76862745 0.75294118 0.74509804]\n",
            "  [0.68235294 0.65098039 0.62352941]\n",
            "  ...\n",
            "  [0.89803922 0.87058824 0.8627451 ]\n",
            "  [0.87058824 0.84313725 0.83529412]\n",
            "  [0.85098039 0.82352941 0.81176471]]\n",
            "\n",
            " [[0.8627451  0.83137255 0.83137255]\n",
            "  [0.85098039 0.81960784 0.81568627]\n",
            "  [0.75294118 0.71764706 0.71372549]\n",
            "  ...\n",
            "  [0.87843137 0.83921569 0.81960784]\n",
            "  [0.88235294 0.83921569 0.82352941]\n",
            "  [0.85490196 0.81568627 0.79607843]]\n",
            "\n",
            " ...\n",
            "\n",
            " [[0.77254902 0.59607843 0.53333333]\n",
            "  [0.76862745 0.59607843 0.52941176]\n",
            "  [0.78823529 0.61176471 0.54901961]\n",
            "  ...\n",
            "  [0.78431373 0.64705882 0.57254902]\n",
            "  [0.78039216 0.64705882 0.57254902]\n",
            "  [0.80392157 0.64313725 0.58823529]]\n",
            "\n",
            " [[0.76862745 0.61568627 0.54509804]\n",
            "  [0.74901961 0.59607843 0.52941176]\n",
            "  [0.75686275 0.60392157 0.53333333]\n",
            "  ...\n",
            "  [0.77647059 0.64313725 0.56470588]\n",
            "  [0.78039216 0.64705882 0.56862745]\n",
            "  [0.78823529 0.63137255 0.57254902]]\n",
            "\n",
            " [[0.72941176 0.58823529 0.52156863]\n",
            "  [0.71372549 0.57647059 0.50980392]\n",
            "  [0.68235294 0.54509804 0.4745098 ]\n",
            "  ...\n",
            "  [0.61960784 0.48627451 0.41176471]\n",
            "  [0.61960784 0.49019608 0.41568627]\n",
            "  [0.63921569 0.49019608 0.43529412]]]\n"
          ]
        }
      ],
      "source": [
        "print(X_train[11])\n",
        "## The values are now all divided by 255"
      ]
    },
    {
      "cell_type": "code",
      "execution_count": null,
      "id": "3a559da7",
      "metadata": {
        "id": "3a559da7",
        "outputId": "ae8a1382-7c1b-435a-d35a-f9d22908e7d7"
      },
      "outputs": [
        {
          "data": {
            "image/png": "[encoded data removed]",
            "text/plain": [
              "<Figure size 1080x144 with 1 Axes>"
            ]
          },
          "metadata": {
            "needs_background": "light"
          },
          "output_type": "display_data"
        }
      ],
      "source": [
        "plot_sample(X_train,y_train,11)"
      ]
    },
    {
      "cell_type": "markdown",
      "id": "72fe5ae7",
      "metadata": {
        "id": "72fe5ae7"
      },
      "source": [
        "### Building our neural network\n",
        "- The network is structured in the following manner\n",
        "- Convolution layer of 32 neurons\n",
        "- MaxPooling layer(That basically reduces the size of the image, while still retaining the nessesary information)\n",
        "- Convolution layer of 64 neurons\n",
        "- Maxpooling layer\n",
        "- hidden layer\n",
        "- Output layer of 10 neurons(Each corresponding to the specific classes)"
      ]
    },
    {
      "cell_type": "code",
      "execution_count": null,
      "id": "fd5da087",
      "metadata": {
        "id": "fd5da087"
      },
      "outputs": [],
      "source": [
        "cnn = models.Sequential([\n",
        "    layers.Conv2D(filters=32, kernel_size=(3, 3), activation='relu', input_shape=(32, 32, 3)),\n",
        "    layers.MaxPooling2D((2, 2)),\n",
        "\n",
        "    layers.Conv2D(filters=64, kernel_size=(3, 3), activation='relu'),\n",
        "    layers.MaxPooling2D((2, 2)),\n",
        "\n",
        "    layers.Flatten(),\n",
        "    layers.Dense(64, activation='relu'),\n",
        "    layers.Dense(10, activation='softmax')\n",
        "])"
      ]
    },
    {
      "cell_type": "code",
      "execution_count": null,
      "id": "868a9b5a",
      "metadata": {
        "id": "868a9b5a"
      },
      "outputs": [],
      "source": [
        "cnn.compile(optimizer='adam',\n",
        "             loss='sparse_categorical_crossentropy',\n",
        "             metrics=['accuracy'])"
      ]
    },
    {
      "cell_type": "code",
      "execution_count": null,
      "id": "f1fd9790",
      "metadata": {
        "id": "f1fd9790",
        "outputId": "809fd7b1-9815-465c-a037-71b7fd34b919"
      },
      "outputs": [
        {
          "name": "stdout",
          "output_type": "stream",
          "text": [
            "Epoch 1/15\n",
            "1563/1563 [==============================] - 54s 34ms/step - loss: 1.4708 - accuracy: 0.4736\n",
            "Epoch 2/15\n",
            "1563/1563 [==============================] - 53s 34ms/step - loss: 1.1232 - accuracy: 0.6057\n",
            "Epoch 3/15\n",
            "1563/1563 [==============================] - 52s 34ms/step - loss: 1.0026 - accuracy: 0.6508\n",
            "Epoch 4/15\n",
            "1563/1563 [==============================] - 53s 34ms/step - loss: 0.9243 - accuracy: 0.6791\n",
            "Epoch 5/15\n",
            "1563/1563 [==============================] - 51s 33ms/step - loss: 0.8611 - accuracy: 0.6996\n",
            "Epoch 6/15\n",
            "1563/1563 [==============================] - 52s 33ms/step - loss: 0.8033 - accuracy: 0.7207\n",
            "Epoch 7/15\n",
            "1563/1563 [==============================] - 52s 33ms/step - loss: 0.7532 - accuracy: 0.7391\n",
            "Epoch 8/15\n",
            "1563/1563 [==============================] - 53s 34ms/step - loss: 0.7070 - accuracy: 0.7527\n",
            "Epoch 9/15\n",
            "1563/1563 [==============================] - 52s 33ms/step - loss: 0.6705 - accuracy: 0.7626\n",
            "Epoch 10/15\n",
            "1563/1563 [==============================] - 53s 34ms/step - loss: 0.6354 - accuracy: 0.7782\n",
            "Epoch 11/15\n",
            "1563/1563 [==============================] - 52s 33ms/step - loss: 0.5970 - accuracy: 0.7906\n",
            "Epoch 12/15\n",
            "1563/1563 [==============================] - 52s 33ms/step - loss: 0.5685 - accuracy: 0.8005\n",
            "Epoch 13/15\n",
            "1563/1563 [==============================] - 53s 34ms/step - loss: 0.5389 - accuracy: 0.8096\n",
            "Epoch 14/15\n",
            "1563/1563 [==============================] - 52s 33ms/step - loss: 0.5081 - accuracy: 0.8195\n",
            "Epoch 15/15\n",
            "1563/1563 [==============================] - 52s 33ms/step - loss: 0.4795 - accuracy: 0.8306\n"
          ]
        },
        {
          "data": {
            "text/plain": [
              "<keras.callbacks.History at 0x18fbddfb640>"
            ]
          },
          "execution_count": 14,
          "metadata": {},
          "output_type": "execute_result"
        }
      ],
      "source": [
        "cnn.fit(X_train,y_train,epochs=15)"
      ]
    },
    {
      "cell_type": "code",
      "execution_count": null,
      "id": "fa9d1e09",
      "metadata": {
        "id": "fa9d1e09",
        "outputId": "c6298313-3fd4-4491-b716-f2692bdc3a69"
      },
      "outputs": [
        {
          "name": "stdout",
          "output_type": "stream",
          "text": [
            "313/313 [==============================] - 5s 16ms/step - loss: 1.0709 - accuracy: 0.6942\n"
          ]
        },
        {
          "data": {
            "text/plain": [
              "[1.0708554983139038, 0.6941999793052673]"
            ]
          },
          "execution_count": 15,
          "metadata": {},
          "output_type": "execute_result"
        }
      ],
      "source": [
        "cnn.evaluate(X_test,y_test) # Evaluating our model, checking its error value and accuracy"
      ]
    },
    {
      "cell_type": "code",
      "execution_count": null,
      "id": "d7dd8704",
      "metadata": {
        "id": "d7dd8704"
      },
      "outputs": [],
      "source": [
        "y_test = y_test.reshape(-1,)\n"
      ]
    },
    {
      "cell_type": "code",
      "execution_count": null,
      "id": "e717079f",
      "metadata": {
        "id": "e717079f",
        "outputId": "3a3132f4-a3ff-434a-8e78-08105f01f03d"
      },
      "outputs": [
        {
          "data": {
            "image/png": "[encoded data removed]",
            "text/plain": [
              "<Figure size 1080x144 with 1 Axes>"
            ]
          },
          "metadata": {
            "needs_background": "light"
          },
          "output_type": "display_data"
        }
      ],
      "source": [
        "plot_sample(X_test,y_test,1)"
      ]
    },
    {
      "cell_type": "code",
      "execution_count": null,
      "id": "44f414f7",
      "metadata": {
        "id": "44f414f7",
        "outputId": "55a35fc9-8b6a-41e7-f0f5-1015730ffb90"
      },
      "outputs": [
        {
          "name": "stdout",
          "output_type": "stream",
          "text": [
            "313/313 [==============================] - 5s 15ms/step\n"
          ]
        },
        {
          "data": {
            "text/plain": [
              "array([[8.0652535e-06, 6.1560801e-05, 7.0248409e-03, 7.9418081e-01,\n",
              "        1.8380597e-05, 3.2074314e-02, 1.5918107e-01, 5.0485841e-08,\n",
              "        7.4505480e-03, 2.8523019e-07],\n",
              "       [2.1281911e-04, 1.8095180e-01, 9.5251983e-12, 2.4940935e-12,\n",
              "        1.2043676e-13, 2.8253179e-18, 7.1892491e-14, 2.9448704e-16,\n",
              "        8.1883520e-01, 1.8088103e-07],\n",
              "       [2.9183311e-02, 9.1680558e-04, 4.1186728e-04, 6.4425898e-05,\n",
              "        1.1401552e-04, 5.7048902e-07, 1.2441994e-06, 2.4946969e-06,\n",
              "        9.6922672e-01, 7.8546975e-05],\n",
              "       [7.7983981e-01, 9.4293868e-03, 4.2701261e-03, 1.6816650e-03,\n",
              "        1.0487751e-01, 1.3227128e-06, 1.5240842e-05, 7.7052653e-05,\n",
              "        9.9029467e-02, 7.7843276e-04],\n",
              "       [3.8542424e-08, 8.3113136e-06, 1.7270010e-03, 6.4321485e-04,\n",
              "        3.0826390e-02, 1.8329856e-05, 9.6677601e-01, 7.5073601e-09,\n",
              "        1.2922666e-07, 6.3702112e-07]], dtype=float32)"
            ]
          },
          "execution_count": 18,
          "metadata": {},
          "output_type": "execute_result"
        }
      ],
      "source": [
        "y_pred = cnn.predict(X_test) # Making our model output predictions\n",
        "y_pred[:5]"
      ]
    },
    {
      "cell_type": "code",
      "execution_count": null,
      "id": "27a0b067",
      "metadata": {
        "id": "27a0b067",
        "outputId": "4e676097-d294-4134-9b8b-7ad716f17ab1"
      },
      "outputs": [
        {
          "data": {
            "text/plain": [
              "[3, 8, 8, 0, 6]"
            ]
          },
          "execution_count": 19,
          "metadata": {},
          "output_type": "execute_result"
        }
      ],
      "source": [
        "y_classes = [np.argmax(element) for element in y_pred] # Decoding the predictions\n",
        "y_classes[:5]"
      ]
    },
    {
      "cell_type": "code",
      "execution_count": null,
      "id": "c99242f2",
      "metadata": {
        "id": "c99242f2",
        "outputId": "003fe1f7-dac8-47bd-aaeb-4adcac1ef37e"
      },
      "outputs": [
        {
          "name": "stdout",
          "output_type": "stream",
          "text": [
            "cat\n",
            "ship\n",
            "ship\n",
            "airplane\n",
            "frog\n"
          ]
        }
      ],
      "source": [
        "for Item in y_classes[:5]:\n",
        "    print(classes[Item])"
      ]
    },
    {
      "cell_type": "code",
      "execution_count": null,
      "id": "1e9bbb38",
      "metadata": {
        "id": "1e9bbb38"
      },
      "outputs": [],
      "source": [
        "# Testing one image ourself just to be sure\n",
        "def test(ImageNumber):\n",
        "    Image = X_test[ImageNumber]\n",
        "    Image = Image.reshape(1,32,32,3)\n",
        "    predicted_thing = cnn.predict(Image)\n",
        "    plot_sample(X_test,y_test,ImageNumber)\n",
        "    prediction = [np.argmax(element) for element in predicted_thing]\n",
        "    print(\"The prediction value is: \", prediction)\n",
        "    print (\"The class is \",classes[prediction[0]])"
      ]
    },
    {
      "cell_type": "code",
      "execution_count": null,
      "id": "84bcb81e",
      "metadata": {
        "id": "84bcb81e"
      },
      "outputs": [],
      "source": [
        "X_test[50].reshape(1,32,32,3).shape"
      ]
    },
    {
      "cell_type": "markdown",
      "source": [
        "# Function to make the model predict the image"
      ],
      "metadata": {
        "id": "pjFNEH3KqVqF"
      },
      "id": "pjFNEH3KqVqF"
    },
    {
      "cell_type": "code",
      "execution_count": null,
      "id": "4149dad4",
      "metadata": {
        "id": "4149dad4",
        "outputId": "d9f1236c-5f9d-4d3c-cba4-909887ea447f"
      },
      "outputs": [
        {
          "name": "stdout",
          "output_type": "stream",
          "text": [
            "1/1 [==============================] - 0s 50ms/step\n",
            "The prediction value is:  [7]\n",
            "The class is  horse\n"
          ]
        },
        {
          "data": {
            "image/png": "[encoded data removed]",
            "text/plain": [
              "<Figure size 1080x144 with 1 Axes>"
            ]
          },
          "metadata": {
            "needs_background": "light"
          },
          "output_type": "display_data"
        }
      ],
      "source": [
        "test(60) # Play around with the numbers, use numbers till 500000\n",
        "# The 2nd line shows the value the CNN predicted\n",
        "# The 3rd Line shows the actual image\n",
        "# 0 is \"airplane\"\n",
        "# 1 is \"automobile\"\n",
        "# 2 is \"bird\"\n",
        "# 3 is \"cat\"\n",
        "# 4 is \"deer\"\n",
        "# 5 is \"dog\"\n",
        "# 6 is \"frog\"\n",
        "# 7 is \"horse\"\n",
        "# 9 is \"ship\"\n",
        "# 10 is \"truck\"\n",
        "# These are determined by the neurons in last layer, see the intro to neural network notebook first to get a general introduction."
      ]
    },
    {
      "cell_type": "code",
      "execution_count": null,
      "id": "a0da6fe6",
      "metadata": {
        "id": "a0da6fe6"
      },
      "outputs": [],
      "source": []
    },
    {
      "cell_type": "code",
      "execution_count": null,
      "id": "0ead8e01",
      "metadata": {
        "id": "0ead8e01"
      },
      "outputs": [],
      "source": []
    }
  ],
  "metadata": {
    "kernelspec": {
      "display_name": "Python 3 (ipykernel)",
      "language": "python",
      "name": "python3"
    },
    "language_info": {
      "codemirror_mode": {
        "name": "ipython",
        "version": 3
      },
      "file_extension": ".py",
      "mimetype": "text/x-python",
      "name": "python",
      "nbconvert_exporter": "python",
      "pygments_lexer": "ipython3",
      "version": "3.10.5"
    },
    "colab": {
      "provenance": [],
      "include_colab_link": true
    }
  },
  "nbformat": 4,
  "nbformat_minor": 5
}